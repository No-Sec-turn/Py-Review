{
 "cells": [
  {
   "cell_type": "markdown",
   "id": "014710d1-586b-4202-9427-b630eb9cd69e",
   "metadata": {},
   "source": [
    "# 3.7.1.3"
   ]
  },
  {
   "cell_type": "code",
   "execution_count": 19,
   "id": "0c447042-0138-4534-9edd-a146a253b4bd",
   "metadata": {},
   "outputs": [],
   "source": [
    "import requests\n",
    "import lxml.html"
   ]
  },
  {
   "cell_type": "code",
   "execution_count": 20,
   "id": "204a2a01-1dcb-4039-8d3e-559d644602a0",
   "metadata": {},
   "outputs": [],
   "source": [
    "def main():\n",
    "    \"\"\"\n",
    "    크롤러의 메인 처리\n",
    "    \"\"\"\n",
    "    # 여러 페이지에서 크롤링을 위해 Session 사용\n",
    "    session = requests.Session()  \n",
    "    # scrape_list_page() 함수를 호출해서 제너레이터를 추출\n",
    "    response = session.get('http://www.hanbit.co.kr/store/books/new_book_list.html')\n",
    "    urls = scrape_list_page(response)\n",
    "    # 제너레이터는 list처럼 사용 가능\n",
    "    for url in urls:\n",
    "        print(url)\n",
    "        print('-'*70)"
   ]
  },
  {
   "cell_type": "code",
   "execution_count": 21,
   "id": "c9322996-b912-4f87-b37b-9e67bccc5350",
   "metadata": {},
   "outputs": [],
   "source": [
    "def scrape_list_page(response):\n",
    "    root = lxml.html.fromstring(response.content)\n",
    "    root.make_links_absolute(response.url)\n",
    "    for a in root.cssselect('.view_box .book_tit a'):\n",
    "        url = a.get('href')\n",
    "        # yield 구문으로 제너레이터의 요소 반환\n",
    "        yield url"
   ]
  },
  {
   "cell_type": "code",
   "execution_count": 22,
   "id": "63dc99ba-4d00-4763-b57f-a9cad90a6e55",
   "metadata": {},
   "outputs": [
    {
     "name": "stdout",
     "output_type": "stream",
     "text": [
      "https://www.hanbit.co.kr/store/books/look.php?p_code=B7623190015\n",
      "----------------------------------------------------------------------\n",
      "https://www.hanbit.co.kr/store/books/look.php?p_code=B4300598719\n",
      "----------------------------------------------------------------------\n",
      "https://www.hanbit.co.kr/store/books/look.php?p_code=B9108907099\n",
      "----------------------------------------------------------------------\n",
      "https://www.hanbit.co.kr/store/books/look.php?p_code=B7015117381\n",
      "----------------------------------------------------------------------\n",
      "https://www.hanbit.co.kr/store/books/look.php?p_code=B7448632539\n",
      "----------------------------------------------------------------------\n",
      "https://www.hanbit.co.kr/store/books/look.php?p_code=B3148701816\n",
      "----------------------------------------------------------------------\n",
      "https://www.hanbit.co.kr/store/books/look.php?p_code=B2591303726\n",
      "----------------------------------------------------------------------\n",
      "https://www.hanbit.co.kr/store/books/look.php?p_code=B9602652686\n",
      "----------------------------------------------------------------------\n",
      "https://www.hanbit.co.kr/store/books/look.php?p_code=B7468885216\n",
      "----------------------------------------------------------------------\n",
      "https://www.hanbit.co.kr/store/books/look.php?p_code=B1108557246\n",
      "----------------------------------------------------------------------\n",
      "https://www.hanbit.co.kr/store/books/look.php?p_code=B9354330938\n",
      "----------------------------------------------------------------------\n",
      "https://www.hanbit.co.kr/store/books/look.php?p_code=B3006151946\n",
      "----------------------------------------------------------------------\n",
      "https://www.hanbit.co.kr/store/books/look.php?p_code=B2388883228\n",
      "----------------------------------------------------------------------\n",
      "https://www.hanbit.co.kr/store/books/look.php?p_code=B4766499846\n",
      "----------------------------------------------------------------------\n",
      "https://www.hanbit.co.kr/store/books/look.php?p_code=B1904486238\n",
      "----------------------------------------------------------------------\n",
      "https://www.hanbit.co.kr/store/books/look.php?p_code=B9380943452\n",
      "----------------------------------------------------------------------\n",
      "https://www.hanbit.co.kr/store/books/look.php?p_code=B6918140228\n",
      "----------------------------------------------------------------------\n",
      "https://www.hanbit.co.kr/store/books/look.php?p_code=B3573121629\n",
      "----------------------------------------------------------------------\n",
      "https://www.hanbit.co.kr/store/books/look.php?p_code=B7132069963\n",
      "----------------------------------------------------------------------\n",
      "https://www.hanbit.co.kr/store/books/look.php?p_code=B8742050283\n",
      "----------------------------------------------------------------------\n"
     ]
    }
   ],
   "source": [
    "if __name__ == '__main__':\n",
    "    main()"
   ]
  },
  {
   "cell_type": "markdown",
   "id": "bf5b4000-e029-4aa3-a025-e03da2e2d845",
   "metadata": {},
   "source": [
    "# 3.7.2.1"
   ]
  },
  {
   "cell_type": "code",
   "execution_count": 9,
   "id": "81ea562e-ab2a-4373-b00f-f2f7eaaba910",
   "metadata": {},
   "outputs": [],
   "source": [
    "import requests\n",
    "import lxml.html"
   ]
  },
  {
   "cell_type": "code",
   "execution_count": 10,
   "id": "cf39b86c-3b00-448c-a1f6-a56236dfd751",
   "metadata": {},
   "outputs": [],
   "source": [
    "def main():\n",
    "    # 여러 페이지에서 크롤링을 위해 Session 사용\n",
    "    session = requests.Session()  \n",
    "    # scrape_list_page() 함수를 호출해서 제너레이터를 추출\n",
    "    response = session.get('http://www.hanbit.co.kr/store/books/new_book_list.html')\n",
    "    urls = scrape_list_page(response)\n",
    "    for url in urls:\n",
    "        response = session.get(url)  # Session을 사용해 상세 페이지를 추출\n",
    "        ebook = scrape_detail_page(response)  # 상세 페이지에서 상세 정보를 추출\n",
    "        print(ebook)  # 상세 정보 출력\n",
    "        break  "
   ]
  },
  {
   "cell_type": "code",
   "execution_count": 11,
   "id": "adfbb3c7-6794-4720-b1b9-a68c72b02eef",
   "metadata": {},
   "outputs": [],
   "source": [
    "def scrape_list_page(response):\n",
    "    root = lxml.html.fromstring(response.content)\n",
    "    root.make_links_absolute(response.url)\n",
    "    for a in root.cssselect('.view_box .book_tit a'):\n",
    "        url = a.get('href')\n",
    "        yield url"
   ]
  },
  {
   "cell_type": "code",
   "execution_count": 12,
   "id": "fd11caae-0474-4e7d-bf90-0d72bd63f2d5",
   "metadata": {},
   "outputs": [],
   "source": [
    "def scrape_detail_page(response):\n",
    "    \"\"\"f\n",
    "    상세 페이지의 Response에서 책 정보를 dict로 추출\n",
    "    \"\"\"\n",
    "    root = lxml.html.fromstring(response.content)\n",
    "    ebook = {\n",
    "        'url': response.url,\n",
    "        'title': root.cssselect('.store_product_info_box h3')[0].text_content(),\n",
    "        'price': root.cssselect('.pbr strong')[0].text_content(),\n",
    "        'content': [p.text_content()\\\n",
    "            for p in root.cssselect('#tabs_3 .hanbit_edit_view p')]\n",
    "    }\n",
    "    return ebook"
   ]
  },
  {
   "cell_type": "code",
   "execution_count": 8,
   "id": "d5b2f961-f704-455a-a442-9e827d595120",
   "metadata": {},
   "outputs": [
    {
     "name": "stdout",
     "output_type": "stream",
     "text": [
      "{'url': 'https://www.hanbit.co.kr/store/books/look.php?p_code=B7623190015', 'title': '최신 관리회계', 'price': '28,000', 'content': ['', '\\r\\n\\t\\t\\t\\t1부 관리회계시스템\\r\\n', '1장 관리회계', '1절 관리회계의 개념', '2절 경영과 관리회계', '3절 회계정보시스템', '2장 관리회계시스템(MAS)', '1절 관리회계와 의사결정', '2절 관리회계시스템의 특성', '3절 관리회계시스템의 활용', '3장 원가관리', '1절 원가 분류', '2절 회계모형의 가격결정', '3절 대체가격', '\\xa0', '\\r\\n\\t\\t\\t\\t2부 원가분석\\r\\n', '4장 이익계획', '1절 원가기획', '2절 원가추정', '3절 이익계획과 손익분기점', '5장 원가－조업도－이익분석(CVP분석)', '1절 CVP분석 개념', '2절 CVP분석 방법', '3절 CVP분석 활용', '보론 매출배합분석', '6장 관리원가', '1절 목표원가계산', '2절 품질원가계산', '3절 수명주기원가계산', '7장 예산관리', '1절 변동원가계산', '2절 종합예산', '3절 종합예산편성 사례', '\\xa0', '\\r\\n\\t\\t\\t\\t3부 의사결정\\r\\n', '8장 균형성과표', '1절 균형성과표의 본질', '2절 핵심성과지표(KPI)', '3절 균형성과표 적용 사례', '9장 단기의사결정', '1절 관련원가', '2절 의사결정 방법', '3절 유형별 단기의사결정', '10장 자본예산', '1절 자본예산분석', '2절 자본예산모형', '3절 순현재가치법과 내부수익률법', '11장 불확실성 하의 의사결정', '1절 의사결정과 불확실성', '2절 불확실성 하의 의사결정기준', '3절 정보의 가치평가', '\\xa0', '\\r\\n\\t\\t\\t\\t4부 전략적 관리회계\\r\\n', '12장 경제적 부가가치(EVA)', '1절 기업가치', '2절 기업가치평가', '3절 EVA 경영', '13장 책임회계와 성과평가', '1절 책임회계', '2절 책임중심점 성과평가', '3절 성과평가와 보상', '14장 관리회계분석', '1절 SWOT 분석', '2절 게임이론', '3절 협상이론', '\\xa0', '\\r\\n\\t\\t\\t\\t부록\\r\\n', '<부표 1> 복리이자 요소', '<부표 2> 연금의 복리이자 요소', '<부표 3> 현가이자 요소', '<부표 4> 현금의 현가이자 요소', '<부표 5> 정규분포표', '\\xa0', '찾아보기']}\n"
     ]
    }
   ],
   "source": [
    "if __name__ == '__main__':\n",
    "    main()"
   ]
  },
  {
   "cell_type": "markdown",
   "id": "c1ace534-8ae5-4686-870c-fa32a6af5519",
   "metadata": {},
   "source": [
    "# 3.7.2.2"
   ]
  },
  {
   "cell_type": "code",
   "execution_count": 13,
   "id": "a659957f-402d-432b-b918-49fadf96f192",
   "metadata": {},
   "outputs": [],
   "source": [
    "import requests\n",
    "import lxml.html\n",
    "import re"
   ]
  },
  {
   "cell_type": "code",
   "execution_count": 14,
   "id": "a1ff9aac-90df-46a2-8ee6-ec1e4a0cfbdd",
   "metadata": {},
   "outputs": [],
   "source": [
    "def main():\n",
    "    # 여러 페이지에서 크롤링을 위해 Session 사용\n",
    "    session = requests.Session()  \n",
    "    # scrape_list_page() 함수를 호출해서 제너레이터를 추출\n",
    "    response = session.get('http://www.hanbit.co.kr/store/books/new_book_list.html')\n",
    "    urls = scrape_list_page(response)\n",
    "    for url in urls:\n",
    "        response = session.get(url)  # Session을 사용해 상세 페이지를 추출\n",
    "        ebook = scrape_detail_page(response)  # 상세 페이지에서 상세 정보를 추출\n",
    "        print(ebook)  # 상세 정보 출력\n",
    "        break  "
   ]
  },
  {
   "cell_type": "code",
   "execution_count": 15,
   "id": "d5b49502-7e2b-49ba-9b82-9de2a3485eb3",
   "metadata": {},
   "outputs": [],
   "source": [
    "def scrape_list_page(response):\n",
    "    root = lxml.html.fromstring(response.content)\n",
    "    root.make_links_absolute(response.url)\n",
    "    for a in root.cssselect('.view_box .book_tit a'):\n",
    "        url = a.get('href')\n",
    "        yield url"
   ]
  },
  {
   "cell_type": "code",
   "execution_count": 16,
   "id": "2434a2ea-580b-48d6-a416-7ed2867bb3ae",
   "metadata": {},
   "outputs": [],
   "source": [
    "def scrape_detail_page(response):\n",
    "    \"\"\"\n",
    "    상세 페이지의 Response에서 책 정보를 dict로 추출\n",
    "    \"\"\"\n",
    "    root = lxml.html.fromstring(response.content)\n",
    "    ebook = {\n",
    "        'url': response.url,\n",
    "        'title': root.cssselect('.store_product_info_box h3')[0].text_content(),\n",
    "        'price': root.cssselect('.pbr strong')[0].text_content(),\n",
    "        'content': [normalize_spaces(p.text_content())\n",
    "            for p in root.cssselect('#tabs_3 .hanbit_edit_view p')\n",
    "            if normalize_spaces(p.text_content()) != '']\n",
    "    }\n",
    "    return ebook"
   ]
  },
  {
   "cell_type": "markdown",
   "id": "67a87a3f-bd07-443d-bd47-91c66ff6cb9b",
   "metadata": {},
   "source": [
    "def normalize_spaces(s):\n",
    "    \"\"\"\n",
    "    연결된 공백을 하나의 공백으로 변경\n",
    "    \"\"\"\n",
    "    return re.sub(r'\\s+', ' ', s).strip()"
   ]
  },
  {
   "cell_type": "code",
   "execution_count": 18,
   "id": "b9a5a4ca-0f4c-432f-9b3d-678ed11a4ebd",
   "metadata": {},
   "outputs": [
    {
     "name": "stdout",
     "output_type": "stream",
     "text": [
      "{'url': 'https://www.hanbit.co.kr/store/books/look.php?p_code=B7623190015', 'title': '최신 관리회계', 'price': '28,000', 'content': ['1부 관리회계시스템', '1장 관리회계', '1절 관리회계의 개념', '2절 경영과 관리회계', '3절 회계정보시스템', '2장 관리회계시스템(MAS)', '1절 관리회계와 의사결정', '2절 관리회계시스템의 특성', '3절 관리회계시스템의 활용', '3장 원가관리', '1절 원가 분류', '2절 회계모형의 가격결정', '3절 대체가격', '2부 원가분석', '4장 이익계획', '1절 원가기획', '2절 원가추정', '3절 이익계획과 손익분기점', '5장 원가－조업도－이익분석(CVP분석)', '1절 CVP분석 개념', '2절 CVP분석 방법', '3절 CVP분석 활용', '보론 매출배합분석', '6장 관리원가', '1절 목표원가계산', '2절 품질원가계산', '3절 수명주기원가계산', '7장 예산관리', '1절 변동원가계산', '2절 종합예산', '3절 종합예산편성 사례', '3부 의사결정', '8장 균형성과표', '1절 균형성과표의 본질', '2절 핵심성과지표(KPI)', '3절 균형성과표 적용 사례', '9장 단기의사결정', '1절 관련원가', '2절 의사결정 방법', '3절 유형별 단기의사결정', '10장 자본예산', '1절 자본예산분석', '2절 자본예산모형', '3절 순현재가치법과 내부수익률법', '11장 불확실성 하의 의사결정', '1절 의사결정과 불확실성', '2절 불확실성 하의 의사결정기준', '3절 정보의 가치평가', '4부 전략적 관리회계', '12장 경제적 부가가치(EVA)', '1절 기업가치', '2절 기업가치평가', '3절 EVA 경영', '13장 책임회계와 성과평가', '1절 책임회계', '2절 책임중심점 성과평가', '3절 성과평가와 보상', '14장 관리회계분석', '1절 SWOT 분석', '2절 게임이론', '3절 협상이론', '부록', '<부표 1> 복리이자 요소', '<부표 2> 연금의 복리이자 요소', '<부표 3> 현가이자 요소', '<부표 4> 현금의 현가이자 요소', '<부표 5> 정규분포표', '찾아보기']}\n"
     ]
    }
   ],
   "source": [
    "if __name__ == '__main__':\n",
    "    main()"
   ]
  },
  {
   "cell_type": "markdown",
   "id": "d4d76a4e-2223-449d-a676-ed65282d4e16",
   "metadata": {},
   "source": [
    "# 3.7.3.1"
   ]
  },
  {
   "cell_type": "code",
   "execution_count": 32,
   "id": "6d6299f9-5247-4901-b523-48525a0b2e3e",
   "metadata": {},
   "outputs": [],
   "source": [
    "import time\n",
    "import requests\n",
    "import lxml.html\n",
    "import re"
   ]
  },
  {
   "cell_type": "code",
   "execution_count": 33,
   "id": "a4f29eee-e8cf-4e67-a145-9ad73bb96ba2",
   "metadata": {},
   "outputs": [],
   "source": [
    "def main():\n",
    "    # 여러 페이지에서 크롤링을 위해 Session 사용\n",
    "    session = requests.Session()  \n",
    "    # scrape_list_page() 함수를 호출해서 제너레이터를 추출\n",
    "    response = session.get('http://www.hanbit.co.kr/store/books/new_book_list.html')\n",
    "    urls = scrape_list_page(response)\n",
    "    for url in urls:\n",
    "        time.sleep(1) # 1초간 대기\n",
    "        response = session.get(url)  # Session을 사용해 상세 페이지를 추출\n",
    "        ebook = scrape_detail_page(response)  # 상세 페이지에서 상세 정보를 추출\n",
    "        print(ebook)  # 상세 정보 출력\n",
    "        break  "
   ]
  },
  {
   "cell_type": "code",
   "execution_count": 34,
   "id": "ff27bc2a-1a65-4e2d-bd5d-9a6dfeedaa2e",
   "metadata": {},
   "outputs": [],
   "source": [
    "def scrape_list_page(response):\n",
    "    root = lxml.html.fromstring(response.content)\n",
    "    root.make_links_absolute(response.url)\n",
    "    for a in root.cssselect('.view_box .book_tit a'):\n",
    "        url = a.get('href')\n",
    "        yield url"
   ]
  },
  {
   "cell_type": "code",
   "execution_count": 35,
   "id": "0ccd797b-c814-4a20-81f0-0fec9f2b3ba8",
   "metadata": {},
   "outputs": [],
   "source": [
    "def scrape_detail_page(response):\n",
    "    \"\"\"\n",
    "    상세 페이지의 Response에서 책 정보를 dict로 추출\n",
    "    \"\"\"\n",
    "    root = lxml.html.fromstring(response.content)\n",
    "    ebook = {\n",
    "        'url': response.url,\n",
    "        'title': root.cssselect('.store_product_info_box h3')[0].text_content(),\n",
    "        'price': root.cssselect('.pbr strong')[0].text_content(),\n",
    "        'content': [normalize_spaces(p.text_content())\n",
    "            for p in root.cssselect('#tabs_3 .hanbit_edit_view p')\n",
    "            if normalize_spaces(p.text_content()) != '']\n",
    "    }\n",
    "    return ebook"
   ]
  },
  {
   "cell_type": "code",
   "execution_count": 28,
   "id": "ae8ffedf-2aa0-4991-a36f-89b1d55c8e3b",
   "metadata": {},
   "outputs": [],
   "source": [
    "def normalize_spaces(s):\n",
    "    \"\"\"\n",
    "    연결된 공백을 하나의 공백으로 변경\n",
    "    \"\"\"\n",
    "    return re.sub(r'\\s+', ' ', s).strip()"
   ]
  },
  {
   "cell_type": "code",
   "execution_count": 31,
   "id": "a5e9668e-9455-4807-a2a0-09fa9db0822b",
   "metadata": {},
   "outputs": [
    {
     "name": "stdout",
     "output_type": "stream",
     "text": [
      "{'url': 'https://www.hanbit.co.kr/store/books/look.php?p_code=B7623190015', 'title': '최신 관리회계', 'price': '28,000', 'content': ['1부 관리회계시스템', '1장 관리회계', '1절 관리회계의 개념', '2절 경영과 관리회계', '3절 회계정보시스템', '2장 관리회계시스템(MAS)', '1절 관리회계와 의사결정', '2절 관리회계시스템의 특성', '3절 관리회계시스템의 활용', '3장 원가관리', '1절 원가 분류', '2절 회계모형의 가격결정', '3절 대체가격', '2부 원가분석', '4장 이익계획', '1절 원가기획', '2절 원가추정', '3절 이익계획과 손익분기점', '5장 원가－조업도－이익분석(CVP분석)', '1절 CVP분석 개념', '2절 CVP분석 방법', '3절 CVP분석 활용', '보론 매출배합분석', '6장 관리원가', '1절 목표원가계산', '2절 품질원가계산', '3절 수명주기원가계산', '7장 예산관리', '1절 변동원가계산', '2절 종합예산', '3절 종합예산편성 사례', '3부 의사결정', '8장 균형성과표', '1절 균형성과표의 본질', '2절 핵심성과지표(KPI)', '3절 균형성과표 적용 사례', '9장 단기의사결정', '1절 관련원가', '2절 의사결정 방법', '3절 유형별 단기의사결정', '10장 자본예산', '1절 자본예산분석', '2절 자본예산모형', '3절 순현재가치법과 내부수익률법', '11장 불확실성 하의 의사결정', '1절 의사결정과 불확실성', '2절 불확실성 하의 의사결정기준', '3절 정보의 가치평가', '4부 전략적 관리회계', '12장 경제적 부가가치(EVA)', '1절 기업가치', '2절 기업가치평가', '3절 EVA 경영', '13장 책임회계와 성과평가', '1절 책임회계', '2절 책임중심점 성과평가', '3절 성과평가와 보상', '14장 관리회계분석', '1절 SWOT 분석', '2절 게임이론', '3절 협상이론', '부록', '<부표 1> 복리이자 요소', '<부표 2> 연금의 복리이자 요소', '<부표 3> 현가이자 요소', '<부표 4> 현금의 현가이자 요소', '<부표 5> 정규분포표', '찾아보기']}\n"
     ]
    }
   ],
   "source": [
    "if __name__ == '__main__':\n",
    "    main()"
   ]
  },
  {
   "cell_type": "code",
   "execution_count": null,
   "id": "7419a5fb-d2e0-4cdb-9dd6-2d160220b436",
   "metadata": {},
   "outputs": [],
   "source": []
  }
 ],
 "metadata": {
  "kernelspec": {
   "display_name": "Python 3",
   "language": "python",
   "name": "python3"
  },
  "language_info": {
   "codemirror_mode": {
    "name": "ipython",
    "version": 3
   },
   "file_extension": ".py",
   "mimetype": "text/x-python",
   "name": "python",
   "nbconvert_exporter": "python",
   "pygments_lexer": "ipython3",
   "version": "3.8.8"
  }
 },
 "nbformat": 4,
 "nbformat_minor": 5
}
