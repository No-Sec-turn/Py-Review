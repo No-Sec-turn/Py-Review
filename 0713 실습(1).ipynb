{
 "cells": [
  {
   "cell_type": "markdown",
   "id": "dcd547f4-9446-452c-89b5-144b0a7a0d45",
   "metadata": {},
   "source": [
    "# 3.7.1.1"
   ]
  },
  {
   "cell_type": "code",
   "execution_count": 16,
   "id": "926b90ba-04ab-4ba5-99ee-7ede9627c9ea",
   "metadata": {},
   "outputs": [
    {
     "name": "stdout",
     "output_type": "stream",
     "text": [
      "Requirement already satisfied: cssselect in c:\\users\\user\\anaconda3\\lib\\site-packages (1.1.0)\n",
      "Note: you may need to restart the kernel to use updated packages.\n"
     ]
    }
   ],
   "source": [
    "pip install cssselect"
   ]
  },
  {
   "cell_type": "code",
   "execution_count": 17,
   "id": "f0838e5b-6bc2-4118-ab67-de60f19a57a9",
   "metadata": {},
   "outputs": [],
   "source": [
    "import requests\n",
    "import lxml.html"
   ]
  },
  {
   "cell_type": "code",
   "execution_count": 18,
   "id": "21cc31c6-c3de-463e-9825-40cab2b0a611",
   "metadata": {
    "scrolled": true,
    "tags": []
   },
   "outputs": [
    {
     "name": "stdout",
     "output_type": "stream",
     "text": [
      "/store/books/look.php?p_code=B7623190015\n",
      "/store/books/look.php?p_code=B7623190015\n",
      "/store/books/look.php?p_code=B4300598719\n",
      "javascript:;\n",
      "/store/books/look.php?p_code=B4300598719\n",
      "/store/books/look.php?p_code=B9108907099\n",
      "/store/books/look.php?p_code=B9108907099\n",
      "/store/books/look.php?p_code=B7015117381\n",
      "javascript:;\n",
      "/store/books/look.php?p_code=B7015117381\n",
      "/store/books/look.php?p_code=B7448632539\n",
      "javascript:;\n",
      "/store/books/look.php?p_code=B7448632539\n",
      "/store/books/look.php?p_code=B3148701816\n",
      "/store/books/look.php?p_code=B3148701816\n",
      "/store/books/look.php?p_code=B2591303726\n",
      "/store/books/look.php?p_code=B2591303726\n",
      "/store/books/look.php?p_code=B9602652686\n",
      "javascript:;\n",
      "/store/books/look.php?p_code=B9602652686\n",
      "/store/books/look.php?p_code=B7468885216\n",
      "javascript:;\n",
      "/store/books/look.php?p_code=B7468885216\n",
      "/store/books/look.php?p_code=B1108557246\n",
      "/store/books/look.php?p_code=B1108557246\n",
      "/store/books/look.php?p_code=B9354330938\n",
      "javascript:;\n",
      "/store/books/look.php?p_code=B9354330938\n",
      "/store/books/look.php?p_code=B3006151946\n",
      "/store/books/look.php?p_code=B3006151946\n",
      "/store/books/look.php?p_code=B2388883228\n",
      "/store/books/look.php?p_code=B2388883228\n",
      "/store/books/look.php?p_code=B4766499846\n",
      "/store/books/look.php?p_code=B4766499846\n",
      "/store/books/look.php?p_code=B1904486238\n",
      "/store/books/look.php?p_code=B1904486238\n",
      "/store/books/look.php?p_code=B9380943452\n",
      "javascript:;\n",
      "/store/books/look.php?p_code=B9380943452\n",
      "/store/books/look.php?p_code=B6918140228\n",
      "javascript:;\n",
      "/store/books/look.php?p_code=B6918140228\n",
      "/store/books/look.php?p_code=B3573121629\n",
      "javascript:;\n",
      "/store/books/look.php?p_code=B3573121629\n",
      "/store/books/look.php?p_code=B7132069963\n",
      "/store/books/look.php?p_code=B7132069963\n",
      "/store/books/look.php?p_code=B8742050283\n",
      "/store/books/look.php?p_code=B8742050283\n"
     ]
    }
   ],
   "source": [
    "response = requests.get('http://www.hanbit.co.kr/store/books/new_book_list.html')\n",
    "root = lxml.html.fromstring(response.content)\n",
    "for a in root.cssselect('.view_box a'):\n",
    "    url = a.get('href')\n",
    "    print(url)"
   ]
  },
  {
   "cell_type": "markdown",
   "id": "e4563ab1-e45a-4d52-9eae-ba10dd414449",
   "metadata": {},
   "source": [
    "# 3.7.1.2"
   ]
  },
  {
   "cell_type": "code",
   "execution_count": 19,
   "id": "1386bc1a-e137-4458-8478-ee9325c81428",
   "metadata": {},
   "outputs": [],
   "source": [
    "import requests\n",
    "import lxml.html"
   ]
  },
  {
   "cell_type": "code",
   "execution_count": 20,
   "id": "b5797258-abec-4082-812e-255fcf216b6c",
   "metadata": {},
   "outputs": [],
   "source": [
    "response = requests.get('http://www.hanbit.co.kr/store/books/new_book_list.html')\n",
    "root = lxml.html.fromstring(response.content)"
   ]
  },
  {
   "cell_type": "code",
   "execution_count": 21,
   "id": "c6d10a04-f03f-449b-8b3b-db9613c22b59",
   "metadata": {
    "scrolled": true,
    "tags": []
   },
   "outputs": [
    {
     "name": "stdout",
     "output_type": "stream",
     "text": [
      "https://www.hanbit.co.kr/store/books/look.php?p_code=B7623190015\n",
      "https://www.hanbit.co.kr/store/books/look.php?p_code=B4300598719\n",
      "https://www.hanbit.co.kr/store/books/look.php?p_code=B9108907099\n",
      "https://www.hanbit.co.kr/store/books/look.php?p_code=B7015117381\n",
      "https://www.hanbit.co.kr/store/books/look.php?p_code=B7448632539\n",
      "https://www.hanbit.co.kr/store/books/look.php?p_code=B3148701816\n",
      "https://www.hanbit.co.kr/store/books/look.php?p_code=B2591303726\n",
      "https://www.hanbit.co.kr/store/books/look.php?p_code=B9602652686\n",
      "https://www.hanbit.co.kr/store/books/look.php?p_code=B7468885216\n",
      "https://www.hanbit.co.kr/store/books/look.php?p_code=B1108557246\n",
      "https://www.hanbit.co.kr/store/books/look.php?p_code=B9354330938\n",
      "https://www.hanbit.co.kr/store/books/look.php?p_code=B3006151946\n",
      "https://www.hanbit.co.kr/store/books/look.php?p_code=B2388883228\n",
      "https://www.hanbit.co.kr/store/books/look.php?p_code=B4766499846\n",
      "https://www.hanbit.co.kr/store/books/look.php?p_code=B1904486238\n",
      "https://www.hanbit.co.kr/store/books/look.php?p_code=B9380943452\n",
      "https://www.hanbit.co.kr/store/books/look.php?p_code=B6918140228\n",
      "https://www.hanbit.co.kr/store/books/look.php?p_code=B3573121629\n",
      "https://www.hanbit.co.kr/store/books/look.php?p_code=B7132069963\n",
      "https://www.hanbit.co.kr/store/books/look.php?p_code=B8742050283\n"
     ]
    }
   ],
   "source": [
    "# 모든 링크를 절대 URL로 변환\n",
    "root.make_links_absolute(response.url)\n",
    "\n",
    "# 목록에서 javascript 제거\n",
    "for a in root.cssselect('.view_box .book_tit a'):\n",
    "    url = a.get('href')\n",
    "    print(url)"
   ]
  }
 ],
 "metadata": {
  "kernelspec": {
   "display_name": "Python 3",
   "language": "python",
   "name": "python3"
  },
  "language_info": {
   "codemirror_mode": {
    "name": "ipython",
    "version": 3
   },
   "file_extension": ".py",
   "mimetype": "text/x-python",
   "name": "python",
   "nbconvert_exporter": "python",
   "pygments_lexer": "ipython3",
   "version": "3.8.8"
  }
 },
 "nbformat": 4,
 "nbformat_minor": 5
}
