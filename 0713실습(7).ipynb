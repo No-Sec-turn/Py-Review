{
 "cells": [
  {
   "cell_type": "markdown",
   "id": "4df3cfcb-486c-42e4-973e-d208ed1ca235",
   "metadata": {},
   "source": [
    "# 3.8.2.1.selenium.ipynb실습"
   ]
  },
  {
   "cell_type": "code",
   "execution_count": 1,
   "id": "9d797852-5833-4e6c-8855-f9b018dea1c1",
   "metadata": {},
   "outputs": [
    {
     "name": "stdout",
     "output_type": "stream",
     "text": [
      "Requirement already satisfied: selenium in c:\\users\\user\\anaconda3\\lib\\site-packages (3.141.0)\n",
      "Requirement already satisfied: urllib3 in c:\\users\\user\\anaconda3\\lib\\site-packages (from selenium) (1.26.4)\n"
     ]
    }
   ],
   "source": [
    "!pip install selenium"
   ]
  },
  {
   "cell_type": "code",
   "execution_count": 2,
   "id": "df426b9f-2e1d-4b0c-ba39-e17bbad792f8",
   "metadata": {},
   "outputs": [],
   "source": [
    "from selenium.webdriver import Chrome\n",
    "import time\n",
    "import sqlite3\n",
    "from pandas.io import sql\n",
    "import os\n",
    "import pandas as pd"
   ]
  },
  {
   "cell_type": "code",
   "execution_count": 23,
   "id": "e1edcefe-34a6-4c27-b60b-fc26a3f19e87",
   "metadata": {},
   "outputs": [],
   "source": [
    "from selenium import webdriver\n",
    "\n",
    "options = webdriver.ChromeOptions()\n",
    "options.add_argument(\"--start-maximized\");\n",
    "\n",
    "browser = webdriver.Chrome('chromedriver', options=options)\n",
    "#창띄우기"
   ]
  },
  {
   "cell_type": "code",
   "execution_count": 24,
   "id": "cebb9dfc-edd3-46b6-957e-fb657b1b1fcd",
   "metadata": {},
   "outputs": [],
   "source": [
    "browser.get('https://www.data.go.kr/')\n",
    "browser.implicitly_wait(5)"
   ]
  },
  {
   "cell_type": "code",
   "execution_count": 25,
   "id": "b05addbb-216c-4bde-adc1-b91384d9a6a7",
   "metadata": {},
   "outputs": [],
   "source": [
    "browser.find_element_by_xpath('//*[@id=\"header\"]/div/div/div/div[2]/div/a[1]').click()\n",
    "browser.implicitly_wait(5)"
   ]
  },
  {
   "cell_type": "code",
   "execution_count": 26,
   "id": "f87b19bf-afa0-46ee-b751-8a42cd58628d",
   "metadata": {},
   "outputs": [],
   "source": [
    "browser.find_element_by_xpath('//*[@id=\"mberId\"]').send_keys('engineer201')\n",
    "#아이디입력"
   ]
  },
  {
   "cell_type": "code",
   "execution_count": 27,
   "id": "8e904fd5-65fb-4741-99d6-6c6bff94f9ff",
   "metadata": {},
   "outputs": [],
   "source": [
    "browser.find_element_by_xpath('//*[@id=\"pswrd\"]').send_keys('ghdtnscks1!')\n",
    "#비밀번호 입력"
   ]
  },
  {
   "cell_type": "code",
   "execution_count": 28,
   "id": "54f7e141-fcdb-42f2-aa40-825096e78437",
   "metadata": {},
   "outputs": [],
   "source": [
    "browser.find_element_by_xpath('//*[@id=\"loginVo\"]/div[2]/div[2]/div[2]/div/div[1]/button').click()\n",
    "browser.implicitly_wait(5)"
   ]
  },
  {
   "cell_type": "code",
   "execution_count": 29,
   "id": "0754a9d4-491b-453e-b9fd-1f39f80a4d21",
   "metadata": {},
   "outputs": [],
   "source": [
    "browser.find_element_by_xpath('//*[@id=\"layer_popup_info_0\"]/div[1]/a').click()\n",
    "browser.find_element_by_xpath('//*[@id=\"layer_popup_info_1\"]/div[1]/a').click()\n",
    "#팝업끄기"
   ]
  },
  {
   "cell_type": "code",
   "execution_count": 30,
   "id": "2ed824f2-a892-4c76-b873-7f14b26ee7bf",
   "metadata": {},
   "outputs": [],
   "source": [
    "browser.find_element_by_xpath('//*[@id=\"M000400_pc\"]/a').click()"
   ]
  },
  {
   "cell_type": "code",
   "execution_count": 31,
   "id": "d20e5e0f-858c-47fc-a35a-f7bf2768c502",
   "metadata": {},
   "outputs": [],
   "source": [
    "browser.find_element_by_xpath('//*[@id=\"M000402_pc\"]/a').click()"
   ]
  },
  {
   "cell_type": "code",
   "execution_count": 32,
   "id": "aa495b5d-ed96-4ed0-bf94-b47c829224e4",
   "metadata": {},
   "outputs": [],
   "source": [
    "def db_save(ARTICLE_LIST):\n",
    "    with sqlite3.connect(os.path.join('.','sqliteDB')) as con: # sqlite DB 파일이 존재하지 않는 경우 파일생성\n",
    "        try:\n",
    "            ARTICLE_LIST.to_sql(name = 'ARTICLE_LIST', con = con, index = False, if_exists='append') \n",
    "            #if_exists : {'fail', 'replace', 'append'} default : fail\n",
    "        except Exception as e:\n",
    "            print(str(e))\n",
    "        print(len(ARTICLE_LIST), '건 저장완료..')"
   ]
  },
  {
   "cell_type": "code",
   "execution_count": 33,
   "id": "0a394805-b411-4cc3-a23d-ffd514518d39",
   "metadata": {},
   "outputs": [
    {
     "name": "stdout",
     "output_type": "stream",
     "text": [
      "10 건 저장완료..\n"
     ]
    }
   ],
   "source": [
    "trs = browser.find_elements_by_xpath('//*[@id=\"searchVO\"]/div[5]/table/tbody/tr')\n",
    "df_list = []\n",
    "for tr in trs:\n",
    "    df = pd.DataFrame({\n",
    "            'NO': [tr.find_element_by_xpath('td[1]').text],\n",
    "            'TITLE': [tr.find_element_by_xpath('td[2]').text],\n",
    "            'IQRY': [tr.find_element_by_xpath('td[3]').text],\n",
    "            'REGDT': [tr.find_element_by_xpath('td[4]').text],\n",
    "            'CHGDT': [tr.find_element_by_xpath('td[5]').text],\n",
    "        })\n",
    "    df_list.append(df)\n",
    "    \n",
    "ARTICLE_LIST = pd.concat(df_list)\n",
    "db_save(ARTICLE_LIST)"
   ]
  },
  {
   "cell_type": "code",
   "execution_count": 34,
   "id": "72ae4eb4-5e07-44eb-b6b9-fbdf880aef05",
   "metadata": {},
   "outputs": [],
   "source": [
    "browser.find_element_by_xpath('//*[@id=\"searchVO\"]/div[5]/table/tbody/tr[1]/td[2]/a').click()\n",
    "browser.implicitly_wait(3)"
   ]
  },
  {
   "cell_type": "code",
   "execution_count": 35,
   "id": "ae0fce7c-bc00-4069-99be-8d076d6b6094",
   "metadata": {},
   "outputs": [],
   "source": [
    "browser.find_element_by_xpath('//*[@id=\"recsroomDetail\"]/div[2]/div[4]/div/a').click()\n",
    "time.sleep(10)\n",
    "#다운 시작"
   ]
  },
  {
   "cell_type": "code",
   "execution_count": 21,
   "id": "157e237b-0909-4dc5-a229-4ea897c20a82",
   "metadata": {},
   "outputs": [],
   "source": [
    "browser.quit()\n",
    "#브라우저 종료"
   ]
  },
  {
   "cell_type": "markdown",
   "id": "d334d2eb-54da-4161-aac5-dacd65fa4bda",
   "metadata": {},
   "source": [
    "# 3.8.2.2.selenium_headless.ipynb실습"
   ]
  },
  {
   "cell_type": "code",
   "execution_count": 36,
   "id": "7b2f39be-7a15-485d-850c-22897f727c58",
   "metadata": {},
   "outputs": [],
   "source": [
    "from selenium.webdriver import Chrome\n",
    "import time\n",
    "import sqlite3\n",
    "from pandas.io import sql\n",
    "import os\n",
    "import pandas as pd"
   ]
  },
  {
   "cell_type": "code",
   "execution_count": 66,
   "id": "f66c28d4-b4ad-4bf7-bbac-4a209fdcb646",
   "metadata": {},
   "outputs": [],
   "source": [
    "from selenium import webdriver\n",
    "\n",
    "options = webdriver.ChromeOptions()\n",
    "options.add_argument(\"--start-maximized\");\n",
    "\n",
    "browser = webdriver.Chrome('chromedriver', options=options)\n",
    "#창띄우기"
   ]
  },
  {
   "cell_type": "code",
   "execution_count": 67,
   "id": "ff63d552-ed8b-4c36-a2e5-3a90878ac1ab",
   "metadata": {},
   "outputs": [],
   "source": [
    "browser.get('https://www.data.go.kr/')\n",
    "browser.implicitly_wait(5)"
   ]
  },
  {
   "cell_type": "code",
   "execution_count": 68,
   "id": "03e705c9-0e76-45ef-a580-63d548db6fbe",
   "metadata": {},
   "outputs": [],
   "source": [
    "browser.find_element_by_xpath('//*[@id=\"header\"]/div/div/div/div[2]/div/a[1]').click()\n",
    "browser.implicitly_wait(5)"
   ]
  },
  {
   "cell_type": "code",
   "execution_count": 58,
   "id": "3101967c-94a0-4909-9089-ae8e75367779",
   "metadata": {},
   "outputs": [],
   "source": [
    "browser.find_element_by_xpath('//*[@id=\"mberId\"]').send_keys('engineer201')"
   ]
  },
  {
   "cell_type": "code",
   "execution_count": 59,
   "id": "3efa9c2c-0bea-4dd5-8880-afaa58e2e0e7",
   "metadata": {},
   "outputs": [],
   "source": [
    "browser.find_element_by_xpath('//*[@id=\"pswrd\"]').send_keys('ghdtnscks1!!')"
   ]
  },
  {
   "cell_type": "code",
   "execution_count": 60,
   "id": "0836cf92-f8a5-45e7-b440-9366204ab195",
   "metadata": {},
   "outputs": [],
   "source": [
    "browser.find_element_by_xpath('//*[@id=\"loginVo\"]/div[2]/div[2]/div[2]/div/div[1]/button').click()\n",
    "browser.implicitly_wait(5)"
   ]
  },
  {
   "cell_type": "code",
   "execution_count": 69,
   "id": "2a1ef020-ff93-4048-89d6-e8461f77d9b0",
   "metadata": {},
   "outputs": [],
   "source": [
    "browser.find_element_by_xpath('//*[@id=\"M000400_pc\"]/a').click()"
   ]
  },
  {
   "cell_type": "code",
   "execution_count": 70,
   "id": "8879c688-ab37-4944-846c-11fb770f1580",
   "metadata": {},
   "outputs": [],
   "source": [
    "browser.find_element_by_xpath('//*[@id=\"mberId\"]').send_keys('engineer201')\n",
    "#아이디입력"
   ]
  },
  {
   "cell_type": "code",
   "execution_count": 71,
   "id": "c45a276e-285a-4d1e-9a9f-56d422c63d4f",
   "metadata": {},
   "outputs": [],
   "source": [
    "browser.find_element_by_xpath('//*[@id=\"pswrd\"]').send_keys('ghdtnscks1!')\n",
    "#비밀번호 입력"
   ]
  },
  {
   "cell_type": "code",
   "execution_count": 72,
   "id": "a2b4c0fd-ab36-4588-b2bc-b3ce11afab60",
   "metadata": {},
   "outputs": [],
   "source": [
    "browser.find_element_by_xpath('//*[@id=\"loginVo\"]/div[2]/div[2]/div[2]/div/div[1]/button').click()\n",
    "browser.implicitly_wait(5)"
   ]
  },
  {
   "cell_type": "code",
   "execution_count": 73,
   "id": "1a5b6a82-003c-463b-b5d1-4510f268695a",
   "metadata": {},
   "outputs": [],
   "source": [
    "browser.find_element_by_xpath('//*[@id=\"layer_popup_info_0\"]/div[1]/a').click()\n",
    "browser.find_element_by_xpath('//*[@id=\"layer_popup_info_1\"]/div[1]/a').click()\n",
    "#팝업끄기"
   ]
  },
  {
   "cell_type": "code",
   "execution_count": 74,
   "id": "6381792f-3934-435b-9b19-a85e7f3be808",
   "metadata": {},
   "outputs": [],
   "source": [
    "browser.find_element_by_xpath('//*[@id=\"M000400_pc\"]/a').click()"
   ]
  },
  {
   "cell_type": "code",
   "execution_count": 75,
   "id": "9ea28a1c-eccf-40b7-a1e6-95e4bc6015a8",
   "metadata": {},
   "outputs": [],
   "source": [
    "browser.find_element_by_xpath('//*[@id=\"M000402_pc\"]/a').click()"
   ]
  },
  {
   "cell_type": "code",
   "execution_count": 76,
   "id": "85b8f2c4-5df1-40c1-ad38-14409f819e39",
   "metadata": {},
   "outputs": [],
   "source": [
    "def db_save(ARTICLE_LIST):\n",
    "    with sqlite3.connect(os.path.join('.','sqliteDB')) as con: # sqlite DB 파일이 존재하지 않는 경우 파일생성\n",
    "        try:\n",
    "            ARTICLE_LIST.to_sql(name = 'ARTICLE_LIST', con = con, index = False, if_exists='append') \n",
    "            #if_exists : {'fail', 'replace', 'append'} default : fail\n",
    "        except Exception as e:\n",
    "            print(str(e))\n",
    "        print(len(ARTICLE_LIST), '건 저장완료..')"
   ]
  },
  {
   "cell_type": "code",
   "execution_count": 77,
   "id": "81d284e5-95ac-413b-bdff-90b3be2a3f14",
   "metadata": {},
   "outputs": [
    {
     "name": "stdout",
     "output_type": "stream",
     "text": [
      "10 건 저장완료..\n"
     ]
    }
   ],
   "source": [
    "trs = browser.find_elements_by_xpath('//*[@id=\"searchVO\"]/div[5]/table/tbody/tr')\n",
    "df_list = []\n",
    "for tr in trs:\n",
    "    df = pd.DataFrame({\n",
    "            'NO': [tr.find_element_by_xpath('td[1]').text],\n",
    "            'TITLE': [tr.find_element_by_xpath('td[2]').text],\n",
    "            'IQRY': [tr.find_element_by_xpath('td[3]').text],\n",
    "            'REGDT': [tr.find_element_by_xpath('td[4]').text],\n",
    "            'CHGDT': [tr.find_element_by_xpath('td[5]').text],\n",
    "        })\n",
    "    df_list.append(df)\n",
    "    \n",
    "ARTICLE_LIST = pd.concat(df_list)\n",
    "db_save(ARTICLE_LIST)"
   ]
  },
  {
   "cell_type": "code",
   "execution_count": 80,
   "id": "19a4ea64-3246-4f2a-bec6-6d4eb4f9d96b",
   "metadata": {},
   "outputs": [],
   "source": [
    "browser.quit()"
   ]
  },
  {
   "cell_type": "code",
   "execution_count": null,
   "id": "cc6a5327-14e5-460b-91a9-ccce515a7e5f",
   "metadata": {},
   "outputs": [],
   "source": []
  }
 ],
 "metadata": {
  "kernelspec": {
   "display_name": "Python 3",
   "language": "python",
   "name": "python3"
  },
  "language_info": {
   "codemirror_mode": {
    "name": "ipython",
    "version": 3
   },
   "file_extension": ".py",
   "mimetype": "text/x-python",
   "name": "python",
   "nbconvert_exporter": "python",
   "pygments_lexer": "ipython3",
   "version": "3.8.8"
  }
 },
 "nbformat": 4,
 "nbformat_minor": 5
}
